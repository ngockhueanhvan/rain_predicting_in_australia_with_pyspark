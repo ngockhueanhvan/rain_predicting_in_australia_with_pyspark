{
 "cells": [
  {
   "cell_type": "markdown",
   "source": [
    "## Rain in Australia: Predict rain tomorrow in Australia\r\n",
    "\r\n",
    "#### Developer: Anh Van\r\n",
    "#### Email: ngockhueanhvan@gmail.com\r\n",
    "Date: 30/09/2019\r\n",
    "Version: 1.0\r\n",
    "Environment: Python 3.5 and Jupyter Notebook\r\n",
    "\r\n",
    "#### Introduction:\r\n",
    "- Main purpose of this assignment is to predict probability of tomorrow rain in Australia using machine learning algorithms, including Desision Tree, Random Forest, Logistic Regression and GB Tree Classifier\r\n",
    "- The procedure including:\r\n",
    "    - Step 1: Import Spark Session and Loading data\r\n",
    "    - Step 2: Load the dataset\r\n",
    "    - Step 3: Delete columns\r\n",
    "    - Step 4: Print the number of missing data\r\n",
    "    - Step 5: Fill the missing data\r\n",
    "    - Step 6: Data transformation\r\n",
    "    - Step 7: Feature vetor and divide dataset \r\n",
    "    - Step 8: Machine learning algorithms\r\n",
    "    - Step 9: Metrics"
   ],
   "metadata": {}
  },
  {
   "cell_type": "markdown",
   "source": [
    "### Import libraries"
   ],
   "metadata": {}
  },
  {
   "cell_type": "code",
   "execution_count": 1,
   "source": [
    "# function operations in Spark dataframe\r\n",
    "from pyspark.sql.functions import col, avg, when, count\r\n",
    "\r\n",
    "# convert string variables into Numeric variables for machine learning algorithms\r\n",
    "from pyspark.ml.feature import StringIndexer\r\n",
    "\r\n",
    "# convert numeric variables into double type\r\n",
    "from pyspark.sql.types import DoubleType\r\n",
    "\r\n",
    "# pipeline\r\n",
    "from pyspark.ml import Pipeline\r\n",
    "\r\n",
    "# assemble independent variables into feature vector\r\n",
    "from pyspark.ml.feature import VectorAssembler\r\n",
    "\r\n",
    "# build evaluator for model performance\r\n",
    "from pyspark.ml.evaluation import MulticlassClassificationEvaluator\r\n",
    "\r\n",
    "# Decision Tree\r\n",
    "from pyspark.ml.classification import DecisionTreeClassifier\r\n",
    "\r\n",
    "# Random Forest\r\n",
    "from pyspark.ml.classification import RandomForestClassifier\r\n",
    "\r\n",
    "# Logistic Regression\r\n",
    "from pyspark.ml.classification import LogisticRegression\r\n",
    "\r\n",
    "# Gradient Boosted Tree\r\n",
    "from pyspark.ml.classification import GBTClassifier\r\n",
    "\r\n",
    "# visualization\r\n",
    "import matplotlib.pyplot as plt\r\n",
    "import numpy as np\r\n",
    "%matplotlib inline"
   ],
   "outputs": [],
   "metadata": {}
  },
  {
   "cell_type": "markdown",
   "source": [
    "## Part A: Creating Spark Session and Loading the Data"
   ],
   "metadata": {}
  },
  {
   "cell_type": "markdown",
   "source": [
    "### Step 1: Import Spark Session and initialize Spark\n",
    "- In this section, we are going to create Spark Session, providing a single point of entry to interact with underlying Spark functionality and allowing programming Spark with Dataframe and Dataset APIs\n",
    "- The Application Name is \"Assignment 2\"\n",
    "- Spark is run locally with 4 processing cores"
   ],
   "metadata": {}
  },
  {
   "cell_type": "code",
   "execution_count": 2,
   "source": [
    "import os\n",
    "os.environ['PYSPARK_SUBMIT_ARGS'] = '--packages org.mongodb.spark:mongo-spark-connector_2.11:2.4.0 pyspark-shell'\n",
    "\n",
    "# import libraries \n",
    "from pyspark import SparkConf, SparkContext # Spark\n",
    "from pyspark.sql import SparkSession # Spark SQL\n",
    "\n",
    "# create the SparkConf object\n",
    "spark_conf = SparkConf()\\\n",
    "    .setMaster(\"local[4]\")\n",
    "    #.set(\"spark.jars.packages\", \"org.mongodb.spark:mongo-spark-connector_2.11:2.4.1\")\n",
    "\n",
    "\n",
    "# local[4]: run Spark locally with 4 working processors as required.\n",
    "# The `appName` field is a name to be shown on the Sparking cluster UI. \n",
    "\n",
    "# create the SparkSession object   \n",
    "my_spark = SparkSession\\\n",
    "    .builder\\\n",
    "    .appName(\"Assignment 2\")\\\n",
    "    .config(conf=spark_conf)\\\n",
    "    .config(\"spark.mongodb.input.uri\", \"mongodb://127.0.0.1/ass_2\") \\\n",
    "    .config(\"spark.mongodb.output.uri\", \"mongodb://127.0.0.1/ass_2\") \\\n",
    "    .getOrCreate()"
   ],
   "outputs": [],
   "metadata": {}
  },
  {
   "cell_type": "markdown",
   "source": [
    "### Step 2: Load the dataset and print the schema and total number of entries\n",
    "- In this section, we are going to load a csv dataset regarding weather in Australia into dataframe using spark session\n",
    "- We are printing the schema and total number of entries"
   ],
   "metadata": {}
  },
  {
   "cell_type": "code",
   "execution_count": 3,
   "source": [
    "# load the data to dataframe using SparkSession\n",
    "weather = my_spark.read.csv(\"weatherAUS.csv\", header=True)"
   ],
   "outputs": [],
   "metadata": {}
  },
  {
   "cell_type": "code",
   "execution_count": 4,
   "source": [
    "# print the total number of entries\n",
    "entries = weather.count()\n",
    "print(\"Total number of entries is\", entries)"
   ],
   "outputs": [
    {
     "output_type": "stream",
     "name": "stdout",
     "text": [
      "Total number of entries is 142193\n"
     ]
    }
   ],
   "metadata": {}
  },
  {
   "cell_type": "code",
   "execution_count": 5,
   "source": [
    "# print the dataframe schema\n",
    "weather.printSchema()"
   ],
   "outputs": [
    {
     "output_type": "stream",
     "name": "stdout",
     "text": [
      "root\n",
      " |-- Date: string (nullable = true)\n",
      " |-- Location: string (nullable = true)\n",
      " |-- MinTemp: string (nullable = true)\n",
      " |-- MaxTemp: string (nullable = true)\n",
      " |-- Rainfall: string (nullable = true)\n",
      " |-- Evaporation: string (nullable = true)\n",
      " |-- Sunshine: string (nullable = true)\n",
      " |-- WindGustDir: string (nullable = true)\n",
      " |-- WindGustSpeed: string (nullable = true)\n",
      " |-- WindDir9am: string (nullable = true)\n",
      " |-- WindDir3pm: string (nullable = true)\n",
      " |-- WindSpeed9am: string (nullable = true)\n",
      " |-- WindSpeed3pm: string (nullable = true)\n",
      " |-- Humidity9am: string (nullable = true)\n",
      " |-- Humidity3pm: string (nullable = true)\n",
      " |-- Pressure9am: string (nullable = true)\n",
      " |-- Pressure3pm: string (nullable = true)\n",
      " |-- Cloud9am: string (nullable = true)\n",
      " |-- Cloud3pm: string (nullable = true)\n",
      " |-- Temp9am: string (nullable = true)\n",
      " |-- Temp3pm: string (nullable = true)\n",
      " |-- RainToday: string (nullable = true)\n",
      " |-- RainTomorrow: string (nullable = true)\n",
      "\n"
     ]
    }
   ],
   "metadata": {}
  },
  {
   "cell_type": "markdown",
   "source": [
    "- Regarding the schema, we can see all of the columns of dataframe are string, which is apparently unusual. \n",
    "- For example, the MinTemp and Maxtemp are usually numeric. Let's print out the first few lines of dataframe to see the actual figures. "
   ],
   "metadata": {}
  },
  {
   "cell_type": "code",
   "execution_count": 6,
   "source": [
    "# show the first five lines of dataframe\n",
    "weather.show(5, truncate=False)"
   ],
   "outputs": [
    {
     "output_type": "stream",
     "name": "stdout",
     "text": [
      "+----------+--------+-------+-------+--------+-----------+--------+-----------+-------------+----------+----------+------------+------------+-----------+-----------+-----------+-----------+--------+--------+-------+-------+---------+------------+\n",
      "|Date      |Location|MinTemp|MaxTemp|Rainfall|Evaporation|Sunshine|WindGustDir|WindGustSpeed|WindDir9am|WindDir3pm|WindSpeed9am|WindSpeed3pm|Humidity9am|Humidity3pm|Pressure9am|Pressure3pm|Cloud9am|Cloud3pm|Temp9am|Temp3pm|RainToday|RainTomorrow|\n",
      "+----------+--------+-------+-------+--------+-----------+--------+-----------+-------------+----------+----------+------------+------------+-----------+-----------+-----------+-----------+--------+--------+-------+-------+---------+------------+\n",
      "|2008-12-01|Albury  |13.4   |22.9   |0.6     |NA         |NA      |W          |44           |W         |WNW       |20          |24          |71         |22         |1007.7     |1007.1     |8       |NA      |16.9   |21.8   |No       |No          |\n",
      "|2008-12-02|Albury  |7.4    |25.1   |0       |NA         |NA      |WNW        |44           |NNW       |WSW       |4           |22          |44         |25         |1010.6     |1007.8     |NA      |NA      |17.2   |24.3   |No       |No          |\n",
      "|2008-12-03|Albury  |12.9   |25.7   |0       |NA         |NA      |WSW        |46           |W         |WSW       |19          |26          |38         |30         |1007.6     |1008.7     |NA      |2       |21     |23.2   |No       |No          |\n",
      "|2008-12-04|Albury  |9.2    |28     |0       |NA         |NA      |NE         |24           |SE        |E         |11          |9           |45         |16         |1017.6     |1012.8     |NA      |NA      |18.1   |26.5   |No       |No          |\n",
      "|2008-12-05|Albury  |17.5   |32.3   |1       |NA         |NA      |W          |41           |ENE       |NW        |7           |20          |82         |33         |1010.8     |1006       |7       |8       |17.8   |29.7   |No       |No          |\n",
      "+----------+--------+-------+-------+--------+-----------+--------+-----------+-------------+----------+----------+------------+------------+-----------+-----------+-----------+-----------+--------+--------+-------+-------+---------+------------+\n",
      "only showing top 5 rows\n",
      "\n"
     ]
    }
   ],
   "metadata": {}
  },
  {
   "cell_type": "markdown",
   "source": [
    "- We can see many of them should have been numeric, i.e. MinTemp, MaxTemp, Rainfall, etc. instead of string. \n",
    "- Thus, we might need to convert data types of certain columns in latter steps."
   ],
   "metadata": {}
  },
  {
   "cell_type": "markdown",
   "source": [
    "## Part B: Data Cleaning and Processing"
   ],
   "metadata": {}
  },
  {
   "cell_type": "markdown",
   "source": [
    "### Step 3: Delete columns from the dataset\n",
    "- In this section, we are goin to delete some unnecessary data from the dataset to enhance efficiency and accuracy of our model\n",
    "- We are going to delete the following columns:\n",
    "    - Date\n",
    "    - Location\n",
    "    - Evaporation\n",
    "    - Sunshine\n",
    "    - Cloud9am\n",
    "    - Cloud3pm\n",
    "    - Temp9am\n",
    "    - Temp3pm"
   ],
   "metadata": {}
  },
  {
   "cell_type": "code",
   "execution_count": 7,
   "source": [
    "# list of columns to be deleted\n",
    "del_col = ['Date','Location', 'Evaporation', 'Sunshine', 'Cloud9am', 'Cloud3pm', 'Temp9am', 'Temp3pm']\n",
    "\n",
    "# drop the above columns\n",
    "weather = weather.drop(*del_col)"
   ],
   "outputs": [],
   "metadata": {}
  },
  {
   "cell_type": "code",
   "execution_count": 8,
   "source": [
    "# print again the schema to check\n",
    "weather.printSchema()"
   ],
   "outputs": [
    {
     "output_type": "stream",
     "name": "stdout",
     "text": [
      "root\n",
      " |-- MinTemp: string (nullable = true)\n",
      " |-- MaxTemp: string (nullable = true)\n",
      " |-- Rainfall: string (nullable = true)\n",
      " |-- WindGustDir: string (nullable = true)\n",
      " |-- WindGustSpeed: string (nullable = true)\n",
      " |-- WindDir9am: string (nullable = true)\n",
      " |-- WindDir3pm: string (nullable = true)\n",
      " |-- WindSpeed9am: string (nullable = true)\n",
      " |-- WindSpeed3pm: string (nullable = true)\n",
      " |-- Humidity9am: string (nullable = true)\n",
      " |-- Humidity3pm: string (nullable = true)\n",
      " |-- Pressure9am: string (nullable = true)\n",
      " |-- Pressure3pm: string (nullable = true)\n",
      " |-- RainToday: string (nullable = true)\n",
      " |-- RainTomorrow: string (nullable = true)\n",
      "\n"
     ]
    }
   ],
   "metadata": {}
  },
  {
   "cell_type": "markdown",
   "source": [
    "### Step 4: Print the number of missing data in each column\n",
    "- In this section, we are going to find and print out the total number of null values in each column"
   ],
   "metadata": {}
  },
  {
   "cell_type": "code",
   "execution_count": 9,
   "source": [
    "# define a function to count 'NA' values for each column of the input datafram\n",
    "def number_of_na(dataset):\n",
    "    # declare the list of columns and their number of 'NA' values \n",
    "    na_list = []\n",
    "    # list of features from the dataframe\n",
    "    cols = dataset.columns\n",
    "    # for each column, count the number of 'NA' and append to the na_list()\n",
    "    for column in cols:\n",
    "        na = dataset.where(col(column)=='NA').count()\n",
    "        na_list.append((column,na))\n",
    "    return na_list"
   ],
   "outputs": [],
   "metadata": {}
  },
  {
   "cell_type": "code",
   "execution_count": 10,
   "source": [
    "# apply to our dataset\n",
    "na_list = number_of_na(weather)\n",
    "# print out the results\n",
    "for each in na_list:\n",
    "    column = each[0]\n",
    "    na = each[1]\n",
    "    print(\"- {0} has {1} null values\".format(column, na))"
   ],
   "outputs": [
    {
     "output_type": "stream",
     "name": "stdout",
     "text": [
      "- MinTemp has 637 null values\n",
      "- MaxTemp has 322 null values\n",
      "- Rainfall has 1406 null values\n",
      "- WindGustDir has 9330 null values\n",
      "- WindGustSpeed has 9270 null values\n",
      "- WindDir9am has 10013 null values\n",
      "- WindDir3pm has 3778 null values\n",
      "- WindSpeed9am has 1348 null values\n",
      "- WindSpeed3pm has 2630 null values\n",
      "- Humidity9am has 1774 null values\n",
      "- Humidity3pm has 3610 null values\n",
      "- Pressure9am has 14014 null values\n",
      "- Pressure3pm has 13981 null values\n",
      "- RainToday has 1406 null values\n",
      "- RainTomorrow has 0 null values\n"
     ]
    }
   ],
   "metadata": {}
  },
  {
   "cell_type": "markdown",
   "source": [
    "### Step 5: Fill the missing data with average value and maximum occurence value\n",
    "- In this section, we are going to fill all the missing values with:\n",
    "    - Average values for numeric columns\n",
    "    - Maximum occurences for non-numeric columns"
   ],
   "metadata": {}
  },
  {
   "cell_type": "markdown",
   "source": [
    "#### Find the numeric and non-numeric features\n",
    "- First, we are going to identify which columns are numeric and none-numeric\n",
    "- Here, if the result of average function are floats, then the feature is numeric\n",
    "- Otherwise, the feature is non-numeric"
   ],
   "metadata": {}
  },
  {
   "cell_type": "code",
   "execution_count": 11,
   "source": [
    "# list of all features\n",
    "all_col = weather.columns\n",
    "# list of numeric features\n",
    "numeric_col = []\n",
    "# list of none-numeric features\n",
    "none_numeric_col = []\n",
    "\n",
    "# append each list the features from dataframe\n",
    "for column in all_col:\n",
    "    # calculate the average value of each column\n",
    "    average = weather.groupby().agg(avg(column)).collect()[0][0]\n",
    "    # if we have floats, then the feature is numeric\n",
    "    if average != None:\n",
    "        numeric_col.append((column, average))\n",
    "    # elseif we have 'None', the feature is none-numeric\n",
    "    else:\n",
    "        none_numeric_col.append(column)\n",
    "\n",
    "# print the numeric list\n",
    "print(\"The numeric features are:\")\n",
    "for features in numeric_col:\n",
    "    print(\"-\", features[0])\n",
    "\n",
    "# print the none-numeric list\n",
    "print(\"\\nThe none-numeric features are:\")\n",
    "for features in none_numeric_col:\n",
    "    print(\"-\", features)"
   ],
   "outputs": [
    {
     "output_type": "stream",
     "name": "stdout",
     "text": [
      "The numeric features are:\n",
      "- MinTemp\n",
      "- MaxTemp\n",
      "- Rainfall\n",
      "- WindGustSpeed\n",
      "- WindSpeed9am\n",
      "- WindSpeed3pm\n",
      "- Humidity9am\n",
      "- Humidity3pm\n",
      "- Pressure9am\n",
      "- Pressure3pm\n",
      "\n",
      "The none-numeric features are:\n",
      "- WindGustDir\n",
      "- WindDir9am\n",
      "- WindDir3pm\n",
      "- RainToday\n",
      "- RainTomorrow\n"
     ]
    }
   ],
   "metadata": {}
  },
  {
   "cell_type": "markdown",
   "source": [
    "#### Replace 'NA' values of numeric features with average values of each feature"
   ],
   "metadata": {}
  },
  {
   "cell_type": "code",
   "execution_count": 12,
   "source": [
    "# list of numeric features, where the first item is feature name and second item is average value\n",
    "numeric_col"
   ],
   "outputs": [
    {
     "output_type": "execute_result",
     "data": {
      "text/plain": [
       "[('MinTemp', 12.186399728729311),\n",
       " ('MaxTemp', 23.2267841912725),\n",
       " ('Rainfall', 2.3499740743107442),\n",
       " ('WindGustSpeed', 39.98429165757619),\n",
       " ('WindSpeed9am', 14.001988000994),\n",
       " ('WindSpeed3pm', 18.63757586179718),\n",
       " ('Humidity9am', 68.8438103105705),\n",
       " ('Humidity3pm', 51.482606091656265),\n",
       " ('Pressure9am', 1017.6537584159615),\n",
       " ('Pressure3pm', 1015.2582035378894)]"
      ]
     },
     "metadata": {},
     "execution_count": 12
    }
   ],
   "metadata": {}
  },
  {
   "cell_type": "code",
   "execution_count": 13,
   "source": [
    "# replace the 'NA' values of numeric features with average values of each feature\n",
    "for column in numeric_col:\n",
    "    col_name = column[0]\n",
    "    avg_col = column[1]\n",
    "    weather = weather.withColumn(col_name, when(weather[col_name]=='NA',avg_col).otherwise(weather[col_name]))"
   ],
   "outputs": [],
   "metadata": {}
  },
  {
   "cell_type": "markdown",
   "source": [
    "#### Replace 'NA' values of none-numeric features with the highest frequent values of each feature"
   ],
   "metadata": {}
  },
  {
   "cell_type": "code",
   "execution_count": 14,
   "source": [
    "# list of non-numeric features\n",
    "non_col = []\n",
    "\n",
    "for column in none_numeric_col:\n",
    "    # count the occurences of each distinct word\n",
    "    # sort the results from the higest to the lowest frequency\n",
    "    aggr = weather.groupby(column).agg(count(column).alias('freq')).sort('freq', ascending=False)\n",
    "    # the highest frequent item\n",
    "    string = aggr.collect()[0][0]\n",
    "    # the occurence of the item\n",
    "    freq = aggr.collect()[0][1]\n",
    "    # append to the list\n",
    "    non_col.append((column, string, freq))"
   ],
   "outputs": [],
   "metadata": {}
  },
  {
   "cell_type": "code",
   "execution_count": 15,
   "source": [
    "# list of non-numeric features, where the first item is feature name, \n",
    "# second item is the highest frequent word\n",
    "# third item is the frequency\n",
    "non_col"
   ],
   "outputs": [
    {
     "output_type": "execute_result",
     "data": {
      "text/plain": [
       "[('WindGustDir', 'W', 9780),\n",
       " ('WindDir9am', 'N', 11393),\n",
       " ('WindDir3pm', 'SE', 10663),\n",
       " ('RainToday', 'No', 109332),\n",
       " ('RainTomorrow', 'No', 110316)]"
      ]
     },
     "metadata": {},
     "execution_count": 15
    }
   ],
   "metadata": {
    "scrolled": true
   }
  },
  {
   "cell_type": "code",
   "execution_count": 16,
   "source": [
    "# Replace 'NA' values of none-numeric features with the highest frequent values of each feature\n",
    "for column in non_col:\n",
    "    col_name = column[0]\n",
    "    highest_freq = column[1]\n",
    "    weather = weather.withColumn(col_name, when(weather[col_name]=='NA',highest_freq).otherwise(weather[col_name]))"
   ],
   "outputs": [],
   "metadata": {}
  },
  {
   "cell_type": "markdown",
   "source": [
    "### Step 6: Data transformation\n",
    "- In this section, we are going to transform the data so that it is ready to process by machine learning algorithm\n",
    "- Convert numeric data into double type\n",
    "- Convert non-numeric data into numbers using StringIndexer"
   ],
   "metadata": {}
  },
  {
   "cell_type": "code",
   "execution_count": 17,
   "source": [
    "# convert the numberic data into double using cast() function\n",
    "for column in numeric_col:\n",
    "    weather = weather.withColumn(column[0], col(column[0]).cast('double'))"
   ],
   "outputs": [],
   "metadata": {}
  },
  {
   "cell_type": "code",
   "execution_count": 18,
   "source": [
    "# convert non-numeric data into numbers using StringIndexer \n",
    "indexers = [StringIndexer(inputCol=column, outputCol=column+\"Index\").fit(weather) for column in none_numeric_col]\n",
    "pipeline = Pipeline(stages=indexers)\n",
    "# fit to the dataframe\n",
    "weather = pipeline.fit(weather).transform(weather)"
   ],
   "outputs": [],
   "metadata": {}
  },
  {
   "cell_type": "code",
   "execution_count": 19,
   "source": [
    "# print schema after transformation\n",
    "weather.printSchema()"
   ],
   "outputs": [
    {
     "output_type": "stream",
     "name": "stdout",
     "text": [
      "root\n",
      " |-- MinTemp: double (nullable = true)\n",
      " |-- MaxTemp: double (nullable = true)\n",
      " |-- Rainfall: double (nullable = true)\n",
      " |-- WindGustDir: string (nullable = true)\n",
      " |-- WindGustSpeed: double (nullable = true)\n",
      " |-- WindDir9am: string (nullable = true)\n",
      " |-- WindDir3pm: string (nullable = true)\n",
      " |-- WindSpeed9am: double (nullable = true)\n",
      " |-- WindSpeed3pm: double (nullable = true)\n",
      " |-- Humidity9am: double (nullable = true)\n",
      " |-- Humidity3pm: double (nullable = true)\n",
      " |-- Pressure9am: double (nullable = true)\n",
      " |-- Pressure3pm: double (nullable = true)\n",
      " |-- RainToday: string (nullable = true)\n",
      " |-- RainTomorrow: string (nullable = true)\n",
      " |-- WindGustDirIndex: double (nullable = false)\n",
      " |-- WindDir9amIndex: double (nullable = false)\n",
      " |-- WindDir3pmIndex: double (nullable = false)\n",
      " |-- RainTodayIndex: double (nullable = false)\n",
      " |-- RainTomorrowIndex: double (nullable = false)\n",
      "\n"
     ]
    }
   ],
   "metadata": {}
  },
  {
   "cell_type": "code",
   "execution_count": 20,
   "source": [
    "# display the top five lines\n",
    "weather.show(5, False)"
   ],
   "outputs": [
    {
     "output_type": "stream",
     "name": "stdout",
     "text": [
      "+-------+-------+--------+-----------+-------------+----------+----------+------------+------------+-----------+-----------+-----------+-----------+---------+------------+----------------+---------------+---------------+--------------+-----------------+\n",
      "|MinTemp|MaxTemp|Rainfall|WindGustDir|WindGustSpeed|WindDir9am|WindDir3pm|WindSpeed9am|WindSpeed3pm|Humidity9am|Humidity3pm|Pressure9am|Pressure3pm|RainToday|RainTomorrow|WindGustDirIndex|WindDir9amIndex|WindDir3pmIndex|RainTodayIndex|RainTomorrowIndex|\n",
      "+-------+-------+--------+-----------+-------------+----------+----------+------------+------------+-----------+-----------+-----------+-----------+---------+------------+----------------+---------------+---------------+--------------+-----------------+\n",
      "|13.4   |22.9   |0.6     |W          |44.0         |W         |WNW       |20.0        |24.0        |71.0       |22.0       |1007.7     |1007.1     |No       |No          |0.0             |6.0            |7.0            |0.0           |0.0              |\n",
      "|7.4    |25.1   |0.0     |WNW        |44.0         |NNW       |WSW       |4.0         |22.0        |44.0       |25.0       |1010.6     |1007.8     |No       |No          |9.0             |9.0            |3.0            |0.0           |0.0              |\n",
      "|12.9   |25.7   |0.0     |WSW        |46.0         |W         |WSW       |19.0        |26.0        |38.0       |30.0       |1007.6     |1008.7     |No       |No          |6.0             |6.0            |3.0            |0.0           |0.0              |\n",
      "|9.2    |28.0   |0.0     |NE         |24.0         |SE        |E         |11.0        |9.0         |45.0       |16.0       |1017.6     |1012.8     |No       |No          |13.0            |1.0            |10.0           |0.0           |0.0              |\n",
      "|17.5   |32.3   |1.0     |W          |41.0         |ENE       |NW        |7.0         |20.0        |82.0       |33.0       |1010.8     |1006.0     |No       |No          |0.0             |10.0           |8.0            |0.0           |0.0              |\n",
      "+-------+-------+--------+-----------+-------------+----------+----------+------------+------------+-----------+-----------+-----------+-----------+---------+------------+----------------+---------------+---------------+--------------+-----------------+\n",
      "only showing top 5 rows\n",
      "\n"
     ]
    }
   ],
   "metadata": {}
  },
  {
   "cell_type": "markdown",
   "source": [
    "### Step 7: Create the feature vector and divide the dataset\n",
    "- In this section, we are going to create the feature vector from the given columns\n",
    "- RainTomorrow_index should be excluded from the feature vector\n",
    "- Next, dataset is randomly split into two parts, including 70% training data and 30% testing data"
   ],
   "metadata": {}
  },
  {
   "cell_type": "markdown",
   "source": [
    "#### Create the feature vector from the given columns"
   ],
   "metadata": {}
  },
  {
   "cell_type": "code",
   "execution_count": 21,
   "source": [
    "# the columns to be excluded from the feature vector\n",
    "ignore_cols = ['WindGustDir','WindDir9am','WindDir3pm','RainToday','RainTomorrow','RainTomorrowIndex']\n",
    "# Assemble vector of features\n",
    "assembler = VectorAssembler(inputCols=[x for x in weather.columns if x not in ignore_cols], outputCol='features')\n",
    "assembler.transform(weather)"
   ],
   "outputs": [
    {
     "output_type": "execute_result",
     "data": {
      "text/plain": [
       "DataFrame[MinTemp: double, MaxTemp: double, Rainfall: double, WindGustDir: string, WindGustSpeed: double, WindDir9am: string, WindDir3pm: string, WindSpeed9am: double, WindSpeed3pm: double, Humidity9am: double, Humidity3pm: double, Pressure9am: double, Pressure3pm: double, RainToday: string, RainTomorrow: string, WindGustDirIndex: double, WindDir9amIndex: double, WindDir3pmIndex: double, RainTodayIndex: double, RainTomorrowIndex: double, features: vector]"
      ]
     },
     "metadata": {},
     "execution_count": 21
    }
   ],
   "metadata": {}
  },
  {
   "cell_type": "code",
   "execution_count": 22,
   "source": [
    "# create a dataframe for feature vector and target variable\n",
    "df = assembler.transform(weather)\n",
    "# drop all columns except for features vector and RainTomorrowIndex\n",
    "df = df.select(['RainTomorrowIndex', 'features'])"
   ],
   "outputs": [],
   "metadata": {}
  },
  {
   "cell_type": "code",
   "execution_count": 23,
   "source": [
    "df.printSchema()"
   ],
   "outputs": [
    {
     "output_type": "stream",
     "name": "stdout",
     "text": [
      "root\n",
      " |-- RainTomorrowIndex: double (nullable = false)\n",
      " |-- features: vector (nullable = true)\n",
      "\n"
     ]
    }
   ],
   "metadata": {}
  },
  {
   "cell_type": "code",
   "execution_count": 24,
   "source": [
    "df.show(5, False)"
   ],
   "outputs": [
    {
     "output_type": "stream",
     "name": "stdout",
     "text": [
      "+-----------------+----------------------------------------------------------------------+\n",
      "|RainTomorrowIndex|features                                                              |\n",
      "+-----------------+----------------------------------------------------------------------+\n",
      "|0.0              |[13.4,22.9,0.6,44.0,20.0,24.0,71.0,22.0,1007.7,1007.1,0.0,6.0,7.0,0.0]|\n",
      "|0.0              |[7.4,25.1,0.0,44.0,4.0,22.0,44.0,25.0,1010.6,1007.8,9.0,9.0,3.0,0.0]  |\n",
      "|0.0              |[12.9,25.7,0.0,46.0,19.0,26.0,38.0,30.0,1007.6,1008.7,6.0,6.0,3.0,0.0]|\n",
      "|0.0              |[9.2,28.0,0.0,24.0,11.0,9.0,45.0,16.0,1017.6,1012.8,13.0,1.0,10.0,0.0]|\n",
      "|0.0              |[17.5,32.3,1.0,41.0,7.0,20.0,82.0,33.0,1010.8,1006.0,0.0,10.0,8.0,0.0]|\n",
      "+-----------------+----------------------------------------------------------------------+\n",
      "only showing top 5 rows\n",
      "\n"
     ]
    }
   ],
   "metadata": {}
  },
  {
   "cell_type": "markdown",
   "source": [
    "#### Split dataset is randomly split into two parts, including 70% training data and 30% testing data"
   ],
   "metadata": {}
  },
  {
   "cell_type": "code",
   "execution_count": 25,
   "source": [
    "# divide data into train sets and test sets. Seed is the value used to make the same data later\n",
    " \n",
    "train, test = df.randomSplit([0.7, 0.3], seed = 2018)\n",
    "print(\"Training Dataset Count: \" + str(train.count()))\n",
    "print(\"Test Dataset Count: \" + str(test.count()))"
   ],
   "outputs": [
    {
     "output_type": "stream",
     "name": "stdout",
     "text": [
      "Training Dataset Count: 99626\n",
      "Test Dataset Count: 42567\n"
     ]
    }
   ],
   "metadata": {}
  },
  {
   "cell_type": "markdown",
   "source": [
    "## Part C: Apply Machine Learning Algorithms\n",
    "### Step 8: Apply Machine Learning classification algorithms on the dataset and compare their accuracy. Plot the accuracy as bar graph\n",
    "- In this section, we are going to use some classification methods, including:\n",
    "    - DecisionTreeClassifier\n",
    "    - RandomForestClassifier\n",
    "    - LogisticRegression\n",
    "    - GBTClassifier\n",
    "- The purpose is calculate the probability of the rainfall tomorrow based on the other related data points\n",
    "- A graph is drawn to compare the accuracy"
   ],
   "metadata": {}
  },
  {
   "cell_type": "markdown",
   "source": [
    "#### DecisionTreeClassifier"
   ],
   "metadata": {}
  },
  {
   "cell_type": "code",
   "execution_count": 26,
   "source": [
    "# build desicion tree model\n",
    "dt = DecisionTreeClassifier(labelCol=\"RainTomorrowIndex\", featuresCol=\"features\")\n",
    "dt_model = dt.fit(train)\n",
    "\n",
    "# compute the target variable on test data\n",
    "dt_predictions = dt_model.transform(test)\n",
    "\n",
    "# show the first 5 results\n",
    "dt_predictions.select(\"RainTomorrowIndex\", \"rawPrediction\", \"probability\", \"prediction\").show(5)\n",
    "\n",
    "# check the accuracy of the model using MulticlassClassificationEvaluator\n",
    "# we can also use BinaryClassficationEvaluator here as our target variable is binary\n",
    "dt_evaluator = MulticlassClassificationEvaluator(\\\n",
    "labelCol=\"RainTomorrowIndex\", predictionCol=\"prediction\",\\\n",
    "metricName=\"accuracy\")\n",
    "\n",
    "# accuracy\n",
    "dt_accuracy = dt_evaluator.evaluate(dt_predictions)\n",
    "\n",
    "# print the results\n",
    "print(\"Test Error = %g \" % (1.0 - dt_accuracy))\n",
    "print(\"Accuracy = %g \" % dt_accuracy)"
   ],
   "outputs": [
    {
     "output_type": "stream",
     "name": "stdout",
     "text": [
      "+-----------------+----------------+--------------------+----------+\n",
      "|RainTomorrowIndex|   rawPrediction|         probability|prediction|\n",
      "+-----------------+----------------+--------------------+----------+\n",
      "|              0.0|[62519.0,8056.0]|[0.88585193057031...|       0.0|\n",
      "|              0.0|[62519.0,8056.0]|[0.88585193057031...|       0.0|\n",
      "|              0.0|[62519.0,8056.0]|[0.88585193057031...|       0.0|\n",
      "|              0.0| [2287.0,1104.0]|[0.67443232084930...|       0.0|\n",
      "|              0.0|[62519.0,8056.0]|[0.88585193057031...|       0.0|\n",
      "+-----------------+----------------+--------------------+----------+\n",
      "only showing top 5 rows\n",
      "\n",
      "Test Error = 0.167877 \n",
      "Accuracy = 0.832123 \n"
     ]
    }
   ],
   "metadata": {}
  },
  {
   "cell_type": "markdown",
   "source": [
    "#### RandomForestClassifier"
   ],
   "metadata": {}
  },
  {
   "cell_type": "code",
   "execution_count": 27,
   "source": [
    "# build the RandomForest model using built-in function\n",
    "rf = RandomForestClassifier(labelCol=\"RainTomorrowIndex\",\\\n",
    "featuresCol=\"features\", numTrees=10)\n",
    "\n",
    "# fit the model to train data\n",
    "rf_model = rf.fit(train)\n",
    "\n",
    "# compute target variable using the model on test data\n",
    "rf_predictions = rf_model.transform(test)\n",
    "\n",
    "# show the first 5 results\n",
    "rf_predictions.select(\"RainTomorrowIndex\", \"rawPrediction\", \"probability\", \"prediction\").show(5)\n",
    "\n",
    "# build Evaluator to check model accuracy\n",
    "rf_evaluator =\\\n",
    "MulticlassClassificationEvaluator(labelCol=\"RainTomorrowIndex\",\\\n",
    "predictionCol=\"prediction\", metricName=\"accuracy\")\n",
    "\n",
    "# accuracy and print out\n",
    "rf_accuracy = rf_evaluator.evaluate(rf_predictions)\n",
    "print(\"Test Error = %g\" % (1.0 - rf_accuracy))\n",
    "print(\"Accuracy  = %g\" % rf_accuracy)"
   ],
   "outputs": [
    {
     "output_type": "stream",
     "name": "stdout",
     "text": [
      "+-----------------+--------------------+--------------------+----------+\n",
      "|RainTomorrowIndex|       rawPrediction|         probability|prediction|\n",
      "+-----------------+--------------------+--------------------+----------+\n",
      "|              0.0|[8.43446363184703...|[0.84344636318470...|       0.0|\n",
      "|              0.0|[8.65873034893959...|[0.86587303489395...|       0.0|\n",
      "|              0.0|[8.43446363184703...|[0.84344636318470...|       0.0|\n",
      "|              0.0|[6.26335854942280...|[0.62633585494228...|       0.0|\n",
      "|              0.0|[8.53929775360288...|[0.85392977536028...|       0.0|\n",
      "+-----------------+--------------------+--------------------+----------+\n",
      "only showing top 5 rows\n",
      "\n",
      "Test Error = 0.166162\n",
      "Accuracy  = 0.833838\n"
     ]
    }
   ],
   "metadata": {}
  },
  {
   "cell_type": "markdown",
   "source": [
    "#### LogisticRegression"
   ],
   "metadata": {}
  },
  {
   "cell_type": "code",
   "execution_count": 28,
   "source": [
    "# create an initial logistic regression model using the train set.\n",
    "lr = LogisticRegression(featuresCol = 'features', labelCol = 'RainTomorrowIndex', maxIter=10)\n",
    "\n",
    "# train model on training data\n",
    "lr_model = lr.fit(train)\n",
    "\n",
    "# apply model to compute target variable on test data\n",
    "lr_predictions = lr_model.transform(test)\n",
    "\n",
    "# show the first 5 results\n",
    "lr_predictions.select(\"RainTomorrowIndex\", \"rawPrediction\", \"probability\", \"prediction\").show(5)\n",
    "\n",
    "# build Evaluator to check model accuracy\n",
    "lr_evaluator = MulticlassClassificationEvaluator(labelCol=\"RainTomorrowIndex\",\\\n",
    "predictionCol=\"prediction\",metricName=\"accuracy\")\n",
    "\n",
    "# accurancy metric and print out\n",
    "lr_accuracy = lr_evaluator.evaluate(lr_predictions)\n",
    "print(\"Test Error = %g\" % (1.0 - lr_accuracy))\n",
    "print(\"Accuracy  = %g\" % lr_accuracy)"
   ],
   "outputs": [
    {
     "output_type": "stream",
     "name": "stdout",
     "text": [
      "+-----------------+--------------------+--------------------+----------+\n",
      "|RainTomorrowIndex|       rawPrediction|         probability|prediction|\n",
      "+-----------------+--------------------+--------------------+----------+\n",
      "|              0.0|[1.14442644793282...|[0.75849141293276...|       0.0|\n",
      "|              0.0|[1.31710076552348...|[0.78869894504587...|       0.0|\n",
      "|              0.0|[0.99924324967793...|[0.73090976647295...|       0.0|\n",
      "|              0.0|[0.66993260033082...|[0.66148806712518...|       0.0|\n",
      "|              0.0|[0.95655274543752...|[0.72243107673444...|       0.0|\n",
      "+-----------------+--------------------+--------------------+----------+\n",
      "only showing top 5 rows\n",
      "\n",
      "Test Error = 0.184768\n",
      "Accuracy  = 0.815232\n"
     ]
    }
   ],
   "metadata": {}
  },
  {
   "cell_type": "markdown",
   "source": [
    "#### GBTClassifier"
   ],
   "metadata": {}
  },
  {
   "cell_type": "code",
   "execution_count": 29,
   "source": [
    "# build the Gradient-Boosted Tree Classifier model using built-in function\n",
    "gbt = GBTClassifier(labelCol=\"RainTomorrowIndex\",featuresCol=\"features\", maxIter=10)\n",
    "\n",
    "# fit model to the train data\n",
    "gbt_model = gbt.fit(train)\n",
    "\n",
    "# apply model to compute target variable on test data\n",
    "gbt_predictions = gbt_model.transform(test)\n",
    "\n",
    "# show the first 5 results\n",
    "gbt_predictions.select(\"RainTomorrowIndex\", \"rawPrediction\", \"probability\", \"prediction\").show(5)\n",
    "\n",
    "# build Evaluator to check model accuracy\n",
    "gbt_evaluator = MulticlassClassificationEvaluator(labelCol=\"RainTomorrowIndex\",\\\n",
    "predictionCol=\"prediction\",metricName=\"accuracy\")\n",
    "\n",
    "# accurancy metric and print out\n",
    "gbt_accuracy = gbt_evaluator.evaluate(gbt_predictions)\n",
    "print(\"Test Error = %g\" % (1.0 - gbt_accuracy))\n",
    "print(\"Accuracy  = %g\" % gbt_accuracy)"
   ],
   "outputs": [
    {
     "output_type": "stream",
     "name": "stdout",
     "text": [
      "+-----------------+--------------------+--------------------+----------+\n",
      "|RainTomorrowIndex|       rawPrediction|         probability|prediction|\n",
      "+-----------------+--------------------+--------------------+----------+\n",
      "|              0.0|[0.715508419651,-...|[0.80705970166642...|       0.0|\n",
      "|              0.0|[0.71235011850945...|[0.80607420795204...|       0.0|\n",
      "|              0.0|[0.61846068335410...|[0.77502767900231...|       0.0|\n",
      "|              0.0|[0.05730146993490...|[0.52861941826497...|       0.0|\n",
      "|              0.0|[0.63887163865184...|[0.78206538744235...|       0.0|\n",
      "+-----------------+--------------------+--------------------+----------+\n",
      "only showing top 5 rows\n",
      "\n",
      "Test Error = 0.160829\n",
      "Accuracy  = 0.839171\n"
     ]
    }
   ],
   "metadata": {}
  },
  {
   "cell_type": "markdown",
   "source": [
    "#### Comparison of accuracy between all models\n",
    "- In this section, we are going to draw a bar plot for demonstrating accuracy rate of all four models"
   ],
   "metadata": {}
  },
  {
   "cell_type": "code",
   "execution_count": 30,
   "source": [
    "# prepare data\n",
    "accuracy = [dt_accuracy, rf_accuracy, lr_accuracy, gbt_accuracy]\n",
    "model_types = [\"Decision Tree\", \"Randon Forest\", \"Logistic \\nRegression\", \"Gradient \\nBoosted Tree\"]\n",
    "\n",
    "# plot\n",
    "bar_width = 0.5\n",
    "y_pos = np.arange(len(model_types))\n",
    "plt.figure(figsize=(8,8))\n",
    "\n",
    "# change the limit of y-axis\n",
    "plt.ylim(0.8, 0.85)\n",
    "\n",
    "plt.bar(y_pos, accuracy, bar_width, align='center', color='C0')\n",
    "plt.xticks(y_pos, model_types)\n",
    "\n",
    "plt.xlabel('Model Type')\n",
    "plt.ylabel('Accuracy Rate')\n",
    "plt.title('Model Accuracy: A comparison between different classifier models')\n",
    "plt.tight_layout()\n",
    "plt.show()"
   ],
   "outputs": [
    {
     "output_type": "display_data",
     "data": {
      "image/png": "[encoded data removed]",
      "text/plain": [
       "<Figure size 576x576 with 1 Axes>"
      ]
     },
     "metadata": {
      "needs_background": "light"
     }
    }
   ],
   "metadata": {}
  },
  {
   "cell_type": "markdown",
   "source": [
    "> - In general, the four machine learning algorithms result in pretty impressive accuracy rates, ranging from 81% to almost 84%. In fact, there is no big difference between the models' performance\n",
    "- Decision Tree and Random Forest Classifier Models have quite similar accuracy rates of just above 83%\n",
    "- Gradient Boosted Tree Classifier performs the best in this problem (even though the distance to the second best model is miniscule), having accuracy rate of almost 84%\n",
    "- Logistic Regression Classifier has the lowest accuracy rate of arounf 81%. However, this performance metric is still great"
   ],
   "metadata": {}
  },
  {
   "cell_type": "markdown",
   "source": [
    "### Step 9: Calculate the confusion matrix and find the precision, recall, and F1 score of each classification algorithm and explain how the accuracy of prediction can be improved\n",
    "- In this section, we are going to compute the confusion matrix to find precision, recall and F1 score for each model\n",
    "- Next, we are going to discuss how the accuracy of prediction can be improved"
   ],
   "metadata": {}
  },
  {
   "cell_type": "code",
   "execution_count": 32,
   "source": [
    "def Metrics(df):\n",
    "    tp = df[(df.RainTomorrowIndex == 1.0) & (df.prediction == 1.0)].count()\n",
    "    tn = df[(df.RainTomorrowIndex == 0.0) & (df.prediction == 0.0)].count()\n",
    "    fp = df[(df.RainTomorrowIndex == 0.0) & (df.prediction == 1.0)].count()\n",
    "    fn = df[(df.RainTomorrowIndex == 1.0) & (df.prediction == 0.0)].count()\n",
    "    cm = [(\"True Possitive\", tp), (\"True Negative\", tn), (\"False Positive\", fp), (\"False Negative\", fn)]\n",
    "    precision = round(tp/(tp+fp),2)\n",
    "    recall = round(tp/(tp+fn),2)\n",
    "    f1 = round(2*((precision*recall)/(precision+recall)),2)\n",
    "    return (cm, precision, recall, f1)"
   ],
   "outputs": [],
   "metadata": {}
  },
  {
   "cell_type": "code",
   "execution_count": 33,
   "source": [
    "# We are going to extract the Prediction and Label for each algorithm\n",
    "\n",
    "# decision tree\n",
    "dt_df = dt_predictions.select([\"RainTomorrowIndex\",\"prediction\"])\n",
    "\n",
    "# random forest\n",
    "rf_df = rf_predictions.select([\"RainTomorrowIndex\",\"prediction\"])\n",
    "\n",
    "# logistic regression\n",
    "lr_df = lr_predictions.select([\"RainTomorrowIndex\",\"prediction\"])\n",
    "\n",
    "# GBT\n",
    "gbt_df = gbt_predictions.select([\"RainTomorrowIndex\",\"prediction\"])"
   ],
   "outputs": [],
   "metadata": {}
  },
  {
   "cell_type": "markdown",
   "source": [
    "#### Metrics of Decision Tree Algorithm"
   ],
   "metadata": {}
  },
  {
   "cell_type": "code",
   "execution_count": 34,
   "source": [
    "# Metrics of decision tree algorithm\n",
    "print(\"Metrics of Decision Tree Algorithm:\")\n",
    "# confusion matrix\n",
    "print(\"- Confusion Matrix:\\n\", Metrics(dt_df)[0])\n",
    "# precision\n",
    "print(\"- Precision: \", Metrics(dt_df)[1])\n",
    "# recall\n",
    "print(\"- Recall: \", Metrics(dt_df)[2])\n",
    "# F1\n",
    "print(\"- F1: \", Metrics(dt_df)[3])"
   ],
   "outputs": [
    {
     "output_type": "stream",
     "name": "stdout",
     "text": [
      "Metrics of Decision Tree Algorithm:\n",
      "- Confusion Matrix:\n",
      " [('True Possitive', 3570), ('True Negative', 31851), ('False Positive', 1207), ('False Negative', 5939)]\n",
      "- Precision:  0.75\n",
      "- Recall:  0.38\n",
      "- F1:  0.5\n"
     ]
    }
   ],
   "metadata": {}
  },
  {
   "cell_type": "markdown",
   "source": [
    "#### Metrics of Random Forest Algorithm"
   ],
   "metadata": {}
  },
  {
   "cell_type": "code",
   "execution_count": 35,
   "source": [
    "# Metrics of random forest algorithm\n",
    "print(\"Metrics of Random Forest Algorithm:\")\n",
    "# confusion matrix\n",
    "print(\"- Confusion Matrix:\\n\", Metrics(rf_df)[0])\n",
    "# precision\n",
    "print(\"- Precision: \", Metrics(rf_df)[1])\n",
    "# recall\n",
    "print(\"- Recall: \", Metrics(rf_df)[2])\n",
    "# F1\n",
    "print(\"- F1: \", Metrics(rf_df)[3])"
   ],
   "outputs": [
    {
     "output_type": "stream",
     "name": "stdout",
     "text": [
      "Metrics of Random Forest Algorithm:\n",
      "- Confusion Matrix:\n",
      " [('True Possitive', 3497), ('True Negative', 31997), ('False Positive', 1061), ('False Negative', 6012)]\n",
      "- Precision:  0.77\n",
      "- Recall:  0.37\n",
      "- F1:  0.5\n"
     ]
    }
   ],
   "metadata": {}
  },
  {
   "cell_type": "markdown",
   "source": [
    "#### Metrics of Logistric Regression"
   ],
   "metadata": {}
  },
  {
   "cell_type": "code",
   "execution_count": 36,
   "source": [
    "# Metrics of Logistic Regression algorithm\n",
    "print(\"Metrics of Logistic Regression Algorithm:\")\n",
    "# confusion matrix\n",
    "print(\"- Confusion Matrix:\\n\", Metrics(lr_df)[0])\n",
    "# precision\n",
    "print(\"- Precision: \", Metrics(lr_df)[1])\n",
    "# recall\n",
    "print(\"- Recall: \", Metrics(lr_df)[2])\n",
    "# F1\n",
    "print(\"- F1: \", Metrics(lr_df)[3])"
   ],
   "outputs": [
    {
     "output_type": "stream",
     "name": "stdout",
     "text": [
      "Metrics of Logistic Regression Algorithm:\n",
      "- Confusion Matrix:\n",
      " [('True Possitive', 3951), ('True Negative', 30751), ('False Positive', 2307), ('False Negative', 5558)]\n",
      "- Precision:  0.63\n",
      "- Recall:  0.42\n",
      "- F1:  0.5\n"
     ]
    }
   ],
   "metadata": {}
  },
  {
   "cell_type": "markdown",
   "source": [
    "#### Metrics of Gradient Boosted Trees Algorithm"
   ],
   "metadata": {}
  },
  {
   "cell_type": "code",
   "execution_count": 37,
   "source": [
    "# Metrics of GBT algorithm\n",
    "print(\"Metrics of Gradient Boosted Trees Algorithm:\")\n",
    "# confusion matrix\n",
    "print(\"- Confusion Matrix:\\n\", Metrics(gbt_df)[0])\n",
    "# precision\n",
    "print(\"- Precision: \", Metrics(gbt_df)[1])\n",
    "# recall\n",
    "print(\"- Recall: \", Metrics(gbt_df)[2])\n",
    "# F1\n",
    "print(\"- F1: \", Metrics(gbt_df)[3])"
   ],
   "outputs": [
    {
     "output_type": "stream",
     "name": "stdout",
     "text": [
      "Metrics of Gradient Boosted Trees Algorithm:\n",
      "- Confusion Matrix:\n",
      " [('True Possitive', 4174), ('True Negative', 31547), ('False Positive', 1511), ('False Negative', 5335)]\n",
      "- Precision:  0.73\n",
      "- Recall:  0.44\n",
      "- F1:  0.55\n"
     ]
    }
   ],
   "metadata": {}
  },
  {
   "cell_type": "markdown",
   "source": [
    "#### How we can improve the accuracy of the prediction\n",
    "##### 1. Handling missing and outlier data\n",
    "    - In the previous step, we were dealing with missing data by imputing the average values for numeric variables and imputing the higest frequent items for non-numeric variables\n",
    "    - This might not be the most ideal method for handling missing data. For example, by replacing missing data with higest frequent items, the data is even more biased to the highest frequent items where it might not be true in real case\n",
    "    - First, we need to investigate why the data is gone missing and which type of missing for each variable, including Missing At Random (MAR), Missing Completely As Random (MCAR), and Missing Not At Random (MNAR)\n",
    "    - Second, after understanding the nature of missing, we should implement different methods on different kind of missing on each variable. For example: Mean, Median, Mode, Time Series, Linear Regression, etc.\n",
    "    - Outliers should also be detected and removed before going to the training dataset\n",
    "\n",
    "##### 2. Exploratory Data Analysis\n",
    "    - We should explore our dataset first by both descriptive statistics and visualisation to deeply understand the interaction between variables, etc.\n",
    "    - Gain insights about our dataset\n",
    "\n",
    "##### 3. Feature engineering and selection\n",
    "    - Here we haven't done a proper feature selection procedure\n",
    "    - In order to improve the accuracy of prediction, we should consider to implement\n",
    "        - Feature normalisation and transformation\n",
    "        - Removal of non-significant variables to the prediction model, i.e. the independent variables that have low impact on the dependent variable\n",
    "        - Stepwise methodology (forward, backward, hybrid)\n",
    "        - Inspect whether we have multicollinearity among variables and handle\n",
    "        - Removal of highly-correlated variable\n",
    "        - Create of new features from the insights of EDA (interactive features, etc.)\n",
    "\n",
    "##### 4. Cross-validation\n",
    "    - Usually, our prediction model is biased towards the training data\n",
    "    - Here we split the data into 70% and 30%, but we don't know which is the most ideal ratio and subsets\n",
    "    - Cross-validation method (such as k-folds) divides the dataset into k-parts and implement train and test model on each subset each time\n",
    "    - It helps to reduce bias of the model to the training data\n",
    "    \n",
    "#### 5. Other methods\n",
    "    - Algorithm tuning\n",
    "    - Ensemble methods\n",
    "    - etc."
   ],
   "metadata": {}
  },
  {
   "cell_type": "markdown",
   "source": [
    "## This is the end of this assignment"
   ],
   "metadata": {}
  }
 ],
 "metadata": {
  "kernelspec": {
   "display_name": "Python 3",
   "language": "python",
   "name": "python3"
  },
  "language_info": {
   "codemirror_mode": {
    "name": "ipython",
    "version": 3
   },
   "file_extension": ".py",
   "mimetype": "text/x-python",
   "name": "python",
   "nbconvert_exporter": "python",
   "pygments_lexer": "ipython3",
   "version": "3.6.8"
  }
 },
 "nbformat": 4,
 "nbformat_minor": 2
}